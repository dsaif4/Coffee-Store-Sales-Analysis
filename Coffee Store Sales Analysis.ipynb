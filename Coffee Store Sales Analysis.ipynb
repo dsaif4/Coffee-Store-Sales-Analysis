{
 "cells": [
  {
   "cell_type": "code",
   "execution_count": 1,
   "id": "0e3b02f8",
   "metadata": {},
   "outputs": [],
   "source": [
    "import pandas as pd\n",
    "import numpy as np\n",
    "import matplotlib.pyplot as plt\n",
    "%matplotlib inline\n",
    "import seaborn as sns"
   ]
  },
  {
   "cell_type": "code",
   "execution_count": 2,
   "id": "138ac4d3",
   "metadata": {},
   "outputs": [
    {
     "data": {
      "text/html": [
       "<div>\n",
       "<style scoped>\n",
       "    .dataframe tbody tr th:only-of-type {\n",
       "        vertical-align: middle;\n",
       "    }\n",
       "\n",
       "    .dataframe tbody tr th {\n",
       "        vertical-align: top;\n",
       "    }\n",
       "\n",
       "    .dataframe thead th {\n",
       "        text-align: right;\n",
       "    }\n",
       "</style>\n",
       "<table border=\"1\" class=\"dataframe\">\n",
       "  <thead>\n",
       "    <tr style=\"text-align: right;\">\n",
       "      <th></th>\n",
       "      <th>date</th>\n",
       "      <th>datetime</th>\n",
       "      <th>hour_of_day</th>\n",
       "      <th>cash_type</th>\n",
       "      <th>card</th>\n",
       "      <th>money</th>\n",
       "      <th>coffee_name</th>\n",
       "      <th>Time_of_Day</th>\n",
       "      <th>Weekday</th>\n",
       "      <th>Month_name</th>\n",
       "      <th>Weekdaysort</th>\n",
       "      <th>Monthsort</th>\n",
       "    </tr>\n",
       "  </thead>\n",
       "  <tbody>\n",
       "    <tr>\n",
       "      <th>0</th>\n",
       "      <td>2024-03-01</td>\n",
       "      <td>2024-03-01 10:15:50.520</td>\n",
       "      <td>10</td>\n",
       "      <td>card</td>\n",
       "      <td>ANON-0000-0000-0001</td>\n",
       "      <td>38.7</td>\n",
       "      <td>Latte</td>\n",
       "      <td>Morning</td>\n",
       "      <td>Fri</td>\n",
       "      <td>Mar</td>\n",
       "      <td>5</td>\n",
       "      <td>3</td>\n",
       "    </tr>\n",
       "    <tr>\n",
       "      <th>1</th>\n",
       "      <td>2024-03-01</td>\n",
       "      <td>2024-03-01 12:19:22.539</td>\n",
       "      <td>12</td>\n",
       "      <td>card</td>\n",
       "      <td>ANON-0000-0000-0002</td>\n",
       "      <td>38.7</td>\n",
       "      <td>Hot Chocolate</td>\n",
       "      <td>Afternoon</td>\n",
       "      <td>Fri</td>\n",
       "      <td>Mar</td>\n",
       "      <td>5</td>\n",
       "      <td>3</td>\n",
       "    </tr>\n",
       "    <tr>\n",
       "      <th>2</th>\n",
       "      <td>2024-03-01</td>\n",
       "      <td>2024-03-01 12:20:18.089</td>\n",
       "      <td>12</td>\n",
       "      <td>card</td>\n",
       "      <td>ANON-0000-0000-0002</td>\n",
       "      <td>38.7</td>\n",
       "      <td>Hot Chocolate</td>\n",
       "      <td>Afternoon</td>\n",
       "      <td>Fri</td>\n",
       "      <td>Mar</td>\n",
       "      <td>5</td>\n",
       "      <td>3</td>\n",
       "    </tr>\n",
       "    <tr>\n",
       "      <th>3</th>\n",
       "      <td>2024-03-01</td>\n",
       "      <td>2024-03-01 13:46:33.006</td>\n",
       "      <td>13</td>\n",
       "      <td>card</td>\n",
       "      <td>ANON-0000-0000-0003</td>\n",
       "      <td>28.9</td>\n",
       "      <td>Americano</td>\n",
       "      <td>Afternoon</td>\n",
       "      <td>Fri</td>\n",
       "      <td>Mar</td>\n",
       "      <td>5</td>\n",
       "      <td>3</td>\n",
       "    </tr>\n",
       "    <tr>\n",
       "      <th>4</th>\n",
       "      <td>2024-03-01</td>\n",
       "      <td>2024-03-01 13:48:14.626</td>\n",
       "      <td>13</td>\n",
       "      <td>card</td>\n",
       "      <td>ANON-0000-0000-0004</td>\n",
       "      <td>38.7</td>\n",
       "      <td>Latte</td>\n",
       "      <td>Afternoon</td>\n",
       "      <td>Fri</td>\n",
       "      <td>Mar</td>\n",
       "      <td>5</td>\n",
       "      <td>3</td>\n",
       "    </tr>\n",
       "  </tbody>\n",
       "</table>\n",
       "</div>"
      ],
      "text/plain": [
       "        date                datetime  hour_of_day cash_type  \\\n",
       "0 2024-03-01 2024-03-01 10:15:50.520           10      card   \n",
       "1 2024-03-01 2024-03-01 12:19:22.539           12      card   \n",
       "2 2024-03-01 2024-03-01 12:20:18.089           12      card   \n",
       "3 2024-03-01 2024-03-01 13:46:33.006           13      card   \n",
       "4 2024-03-01 2024-03-01 13:48:14.626           13      card   \n",
       "\n",
       "                  card  money    coffee_name Time_of_Day Weekday Month_name  \\\n",
       "0  ANON-0000-0000-0001   38.7          Latte     Morning     Fri        Mar   \n",
       "1  ANON-0000-0000-0002   38.7  Hot Chocolate   Afternoon     Fri        Mar   \n",
       "2  ANON-0000-0000-0002   38.7  Hot Chocolate   Afternoon     Fri        Mar   \n",
       "3  ANON-0000-0000-0003   28.9      Americano   Afternoon     Fri        Mar   \n",
       "4  ANON-0000-0000-0004   38.7          Latte   Afternoon     Fri        Mar   \n",
       "\n",
       "   Weekdaysort  Monthsort  \n",
       "0            5          3  \n",
       "1            5          3  \n",
       "2            5          3  \n",
       "3            5          3  \n",
       "4            5          3  "
      ]
     },
     "execution_count": 2,
     "metadata": {},
     "output_type": "execute_result"
    }
   ],
   "source": [
    "df = pd.read_excel(\"D:\\\\Data_Science\\\\Datasets\\\\Coffe_store_sales\\\\Coffe_sales.xlsx\")\n",
    "df.head()"
   ]
  },
  {
   "cell_type": "code",
   "execution_count": 3,
   "id": "6f59db3b",
   "metadata": {},
   "outputs": [
    {
     "data": {
      "text/plain": [
       "(3636, 12)"
      ]
     },
     "execution_count": 3,
     "metadata": {},
     "output_type": "execute_result"
    }
   ],
   "source": [
    "# check the shape of the data\n",
    "df.shape"
   ]
  },
  {
   "cell_type": "code",
   "execution_count": 4,
   "id": "68cf3ea8",
   "metadata": {},
   "outputs": [
    {
     "name": "stdout",
     "output_type": "stream",
     "text": [
      "<class 'pandas.core.frame.DataFrame'>\n",
      "RangeIndex: 3636 entries, 0 to 3635\n",
      "Data columns (total 12 columns):\n",
      " #   Column       Non-Null Count  Dtype         \n",
      "---  ------       --------------  -----         \n",
      " 0   date         3636 non-null   datetime64[ns]\n",
      " 1   datetime     3636 non-null   datetime64[ns]\n",
      " 2   hour_of_day  3636 non-null   int64         \n",
      " 3   cash_type    3636 non-null   object        \n",
      " 4   card         3547 non-null   object        \n",
      " 5   money        3636 non-null   float64       \n",
      " 6   coffee_name  3636 non-null   object        \n",
      " 7   Time_of_Day  3636 non-null   object        \n",
      " 8   Weekday      3636 non-null   object        \n",
      " 9   Month_name   3636 non-null   object        \n",
      " 10  Weekdaysort  3636 non-null   int64         \n",
      " 11  Monthsort    3636 non-null   int64         \n",
      "dtypes: datetime64[ns](2), float64(1), int64(3), object(6)\n",
      "memory usage: 341.0+ KB\n"
     ]
    }
   ],
   "source": [
    "#check the datatype\n",
    "df.info()"
   ]
  },
  {
   "cell_type": "code",
   "execution_count": 5,
   "id": "cd8b1409",
   "metadata": {},
   "outputs": [
    {
     "data": {
      "text/plain": [
       "date            0\n",
       "datetime        0\n",
       "hour_of_day     0\n",
       "cash_type       0\n",
       "card           89\n",
       "money           0\n",
       "coffee_name     0\n",
       "Time_of_Day     0\n",
       "Weekday         0\n",
       "Month_name      0\n",
       "Weekdaysort     0\n",
       "Monthsort       0\n",
       "dtype: int64"
      ]
     },
     "execution_count": 5,
     "metadata": {},
     "output_type": "execute_result"
    }
   ],
   "source": [
    "#check the null value\n",
    "df.isnull().sum()"
   ]
  },
  {
   "cell_type": "code",
   "execution_count": 6,
   "id": "2ee3128b",
   "metadata": {},
   "outputs": [
    {
     "data": {
      "text/plain": [
       "date           datetime64[ns]\n",
       "datetime       datetime64[ns]\n",
       "hour_of_day             int64\n",
       "cash_type              object\n",
       "card                   object\n",
       "money                 float64\n",
       "coffee_name            object\n",
       "Time_of_Day            object\n",
       "Weekday                object\n",
       "Month_name             object\n",
       "Weekdaysort             int64\n",
       "Monthsort               int64\n",
       "dtype: object"
      ]
     },
     "execution_count": 6,
     "metadata": {},
     "output_type": "execute_result"
    }
   ],
   "source": [
    "# check the data type\n",
    "df.dtypes"
   ]
  },
  {
   "cell_type": "code",
   "execution_count": 7,
   "id": "0cf8ceb0",
   "metadata": {},
   "outputs": [
    {
     "name": "stdout",
     "output_type": "stream",
     "text": [
      "['date', 'datetime']\n"
     ]
    }
   ],
   "source": [
    "date_time_col = [col for col in df.columns if df[col].dtype == 'datetime64[ns]']\n",
    "print(date_time_col)"
   ]
  },
  {
   "cell_type": "code",
   "execution_count": 8,
   "id": "9c7fee05",
   "metadata": {},
   "outputs": [
    {
     "data": {
      "text/plain": [
       "array(['Latte', 'Hot Chocolate', 'Americano', 'Americano with Milk',\n",
       "       'Cocoa', 'Cortado', 'Espresso', 'Cappuccino'], dtype=object)"
      ]
     },
     "execution_count": 8,
     "metadata": {},
     "output_type": "execute_result"
    }
   ],
   "source": [
    "# check the variesties of the coffee \n",
    "df['coffee_name'].unique()"
   ]
  },
  {
   "cell_type": "code",
   "execution_count": 9,
   "id": "d3340a87",
   "metadata": {},
   "outputs": [
    {
     "name": "stdout",
     "output_type": "stream",
     "text": [
      "coffee_name\n",
      "Latte                  27866.30\n",
      "Americano with Milk    25269.12\n",
      "Cappuccino             18034.14\n",
      "Americano              15062.26\n",
      "Hot Chocolate          10172.46\n",
      "Cocoa                   8678.16\n",
      "Cortado                 7534.86\n",
      "Espresso                2814.28\n",
      "Name: money, dtype: float64\n"
     ]
    }
   ],
   "source": [
    "#check the money generated by each coffie type\n",
    "coffie_name = df.groupby('coffee_name')['money'].sum()\n",
    "print(coffie_name.sort_values(ascending=False))"
   ]
  },
  {
   "cell_type": "code",
   "execution_count": 10,
   "id": "e730e8fc",
   "metadata": {},
   "outputs": [
    {
     "name": "stdout",
     "output_type": "stream",
     "text": [
      "Highest revenue grosser coffie type is :'Latte'\n"
     ]
    }
   ],
   "source": [
    "#check the larget revenue genearator coffie type\n",
    "print(f\"Highest revenue grosser coffie type is :'{coffie_name.idxmax()}'\")"
   ]
  },
  {
   "cell_type": "code",
   "execution_count": 11,
   "id": "04e8490f",
   "metadata": {},
   "outputs": [
    {
     "name": "stdout",
     "output_type": "stream",
     "text": [
      "Americano with Milk    824\n",
      "Latte                  782\n",
      "Americano              578\n",
      "Cappuccino             501\n",
      "Cortado                292\n",
      "Hot Chocolate          282\n",
      "Cocoa                  243\n",
      "Espresso               134\n",
      "Name: coffee_name, dtype: int64\n",
      "\n",
      "Most popular coffee is \"Americano with Milk\"\n"
     ]
    }
   ],
   "source": [
    "# check the most popular coffee\n",
    "most_popular_coffee = df['coffee_name'].value_counts()\n",
    "print(most_popular_coffee)\n",
    "print('\\n'f'Most popular coffee is \"{most_popular_coffee.idxmax()}\"')"
   ]
  },
  {
   "cell_type": "code",
   "execution_count": 12,
   "id": "8ff07c89",
   "metadata": {},
   "outputs": [
    {
     "data": {
      "text/plain": [
       "array(['Morning', 'Afternoon', 'Night'], dtype=object)"
      ]
     },
     "execution_count": 12,
     "metadata": {},
     "output_type": "execute_result"
    }
   ],
   "source": [
    "# check the unique value Time_of_Day\n",
    "df['Time_of_Day'].unique()"
   ]
  },
  {
   "cell_type": "code",
   "execution_count": 13,
   "id": "46c916e3",
   "metadata": {},
   "outputs": [
    {
     "name": "stdout",
     "output_type": "stream",
     "text": [
      "Afternoon    1231\n",
      "Morning      1221\n",
      "Night        1184\n",
      "Name: Time_of_Day, dtype: int64\n",
      "\n",
      "----------------------------------------\n",
      "\n",
      "Highest time of the day in which people consume coffe is : 'Afternoon'\n"
     ]
    }
   ],
   "source": [
    "#check the value counts on each time of the day\n",
    "day_time = df['Time_of_Day'].value_counts()\n",
    "print(day_time)\n",
    "print(\"\\n\"\"----------------------------------------\")\n",
    "print('\\n'f\"Highest time of the day in which people consume coffe is : '{day_time.idxmax()}'\")"
   ]
  },
  {
   "cell_type": "code",
   "execution_count": 14,
   "id": "abae2629",
   "metadata": {},
   "outputs": [
    {
     "name": "stdout",
     "output_type": "stream",
     "text": [
      "Highest grossing month is : Mar\n"
     ]
    }
   ],
   "source": [
    "# highest grossing month \n",
    "high_month = df.groupby('Month_name')['money'].sum()\n",
    "print(f\"Highest grossing month is : {high_month.idxmax()}\")"
   ]
  },
  {
   "cell_type": "code",
   "execution_count": 15,
   "id": "73246d4b",
   "metadata": {},
   "outputs": [
    {
     "name": "stdout",
     "output_type": "stream",
     "text": [
      "Time_of_Day\n",
      "Night        39033.34\n",
      "Afternoon    39018.04\n",
      "Morning      37380.20\n",
      "Name: money, dtype: float64\n"
     ]
    }
   ],
   "source": [
    "# check the revenue genearion in the time of days\n",
    "money_day_time = df.groupby('Time_of_Day')['money'].sum()\n",
    "print(money_day_time.sort_values(ascending=False))"
   ]
  },
  {
   "cell_type": "markdown",
   "id": "1e32a1bf",
   "metadata": {},
   "source": [
    "We can clearly see the \"Night\" is the highest revenue time of the day."
   ]
  },
  {
   "cell_type": "code",
   "execution_count": 16,
   "id": "b5c46a52",
   "metadata": {},
   "outputs": [
    {
     "name": "stdout",
     "output_type": "stream",
     "text": [
      "Highest consuming coffee type(s) per month:\n",
      "\n",
      "\n",
      "   Month_name          coffee_name    money\n",
      "0         Apr           Cappuccino  1659.44\n",
      "1         Aug  Americano with Milk  2010.24\n",
      "2         Dec  Americano with Milk  1759.02\n",
      "3         Feb            Americano  3037.32\n",
      "4         Jan  Americano with Milk  1604.72\n",
      "5         Jul  Americano with Milk  1863.80\n",
      "6         Jun  Americano with Milk  2268.12\n",
      "7         Mar                Latte  3912.82\n",
      "8         May                Latte  2198.00\n",
      "9         Nov                Latte  2431.68\n",
      "10        Oct                Latte  4291.20\n",
      "11        Sep                Latte  3114.48\n"
     ]
    }
   ],
   "source": [
    "#check highest consuming coffie each month\n",
    "\n",
    "coffie_per_month = df.groupby(['Month_name','coffee_name'])['money'].sum().reset_index()\n",
    "\n",
    "# For each month, find the coffee_type(s) with the highest consumption\n",
    "def get_highest_consumption(group):\n",
    "    max_value = group['money'].max()\n",
    "    return group[group['money'] == max_value]\n",
    "\n",
    "result = coffie_per_month.groupby('Month_name').apply(get_highest_consumption).reset_index(drop=True)\n",
    "\n",
    "print(\"Highest consuming coffee type(s) per month:\")\n",
    "print('\\n')\n",
    "print(result)"
   ]
  },
  {
   "cell_type": "code",
   "execution_count": 17,
   "id": "c4a06642",
   "metadata": {},
   "outputs": [
    {
     "name": "stdout",
     "output_type": "stream",
     "text": [
      "Month_name\n",
      "Apr    Latte\n",
      "Aug    Latte\n",
      "Dec    Latte\n",
      "Feb    Latte\n",
      "Jan    Latte\n",
      "Jul    Latte\n",
      "Jun    Latte\n",
      "Mar    Latte\n",
      "May    Latte\n",
      "Nov    Latte\n",
      "Oct    Latte\n",
      "Sep    Latte\n",
      "Name: coffee_name, dtype: object\n"
     ]
    }
   ],
   "source": [
    "#check highest consuming coffie each month per consumption\n",
    "coffee_per_month_freq = df.groupby('Month_name')['coffee_name'].max()\n",
    "print(coffee_per_month_freq)"
   ]
  },
  {
   "cell_type": "code",
   "execution_count": 18,
   "id": "eeac2929",
   "metadata": {},
   "outputs": [
    {
     "name": "stdout",
     "output_type": "stream",
     "text": [
      "Highest consuming coffee type(s) each day time:\n",
      "\n",
      "-----------------------------------------------\n",
      "  Time_of_Day          coffee_name     money\n",
      "1     Morning  Americano with Milk  10199.52\n",
      "2       Night                Latte   9772.02\n",
      "0   Afternoon                Latte   9691.10\n"
     ]
    }
   ],
   "source": [
    "#check the highest consumable item in each day time \n",
    "high_item_frq = df.groupby(['Time_of_Day', 'coffee_name'])['money'].sum().reset_index()\n",
    "\n",
    "def high_item (group):\n",
    "    max_item = group['money'].max()\n",
    "    return group[group['money'] == max_item]\n",
    "\n",
    "high_item_per_day = high_item_frq.groupby('Time_of_Day').apply(get_highest_consumption).reset_index(drop=True)\n",
    "\n",
    "print(\"Highest consuming coffee type(s) each day time:\")\n",
    "print('\\n'\"-----------------------------------------------\")\n",
    "high_day_time_item_sorted = high_item_per_day.sort_values(by = 'money', ascending=False)\n",
    "print(high_day_time_item_sorted)\n"
   ]
  },
  {
   "cell_type": "code",
   "execution_count": 19,
   "id": "53e9ceeb",
   "metadata": {},
   "outputs": [
    {
     "name": "stdout",
     "output_type": "stream",
     "text": [
      "Total sale is : $ 115431.58\n"
     ]
    }
   ],
   "source": [
    "# Check the total sales\n",
    "total_sales = df['money'].sum()\n",
    "print(f\"Total sale is : $ {total_sales}\")"
   ]
  },
  {
   "cell_type": "code",
   "execution_count": 20,
   "id": "d6c31e6b",
   "metadata": {},
   "outputs": [
    {
     "name": "stdout",
     "output_type": "stream",
     "text": [
      "Average transaction is : $ 31.747\n"
     ]
    }
   ],
   "source": [
    "# check the average transaction\n",
    "avg_trans = total_sales/len(df['money'])\n",
    "\n",
    "print(f\"Average transaction is : $ {avg_trans:.3f}\")"
   ]
  },
  {
   "cell_type": "code",
   "execution_count": 21,
   "id": "41f16dbc",
   "metadata": {},
   "outputs": [
    {
     "name": "stdout",
     "output_type": "stream",
     "text": [
      "Month_name\n",
      "Mar    17036.64\n",
      "Oct    13891.16\n",
      "Feb    13215.48\n",
      "Sep     9988.64\n",
      "May     9063.42\n",
      "Nov     8590.54\n",
      "Dec     8237.74\n",
      "Jun     7758.76\n",
      "Aug     7613.84\n",
      "Jul     6915.94\n",
      "Apr     6720.56\n",
      "Jan     6398.86\n",
      "Name: money, dtype: float64\n"
     ]
    }
   ],
   "source": [
    "# sales trend over a month\n",
    "\n",
    "sales_per_month = df.groupby('Month_name')['money'].sum()\n",
    "print(sales_per_month.sort_values(ascending=False))"
   ]
  },
  {
   "cell_type": "code",
   "execution_count": 22,
   "id": "ede9d4e0",
   "metadata": {},
   "outputs": [
    {
     "name": "stdout",
     "output_type": "stream",
     "text": [
      "Day of month with maximum sales: 2024-10-11 00:00:00, Sales: $ 836.660000\n"
     ]
    }
   ],
   "source": [
    "# which day of the month has maximum sales\n",
    "# First convert the date column to datetime\n",
    "df['date'] = pd.to_datetime(df['date'])\n",
    "# then Extract the day of the month\n",
    "df['day'] = df['date'].dt.day\n",
    "\n",
    "daily_sales = df.groupby('date')['money'].sum()\n",
    "\n",
    "# Find the day with maximum sales and the total sales on that day\n",
    "max_sales_day = daily_sales.idxmax()\n",
    "max_sales = daily_sales.max()\n",
    "\n",
    "\n",
    "print(f\"Day of month with maximum sales: {max_sales_day}, Sales: $ {max_sales:1f}\")"
   ]
  },
  {
   "cell_type": "code",
   "execution_count": null,
   "id": "3bb98ff2",
   "metadata": {},
   "outputs": [],
   "source": []
  }
 ],
 "metadata": {
  "kernelspec": {
   "display_name": "Python 3",
   "language": "python",
   "name": "python3"
  },
  "language_info": {
   "codemirror_mode": {
    "name": "ipython",
    "version": 3
   },
   "file_extension": ".py",
   "mimetype": "text/x-python",
   "name": "python",
   "nbconvert_exporter": "python",
   "pygments_lexer": "ipython3",
   "version": "3.8.8"
  }
 },
 "nbformat": 4,
 "nbformat_minor": 5
}
